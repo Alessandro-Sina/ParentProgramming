{
 "cells": [
  {
   "cell_type": "markdown",
   "metadata": {},
   "source": [
    "# Mother (father), Son (daughter) Programming:\n",
    "## A guide to the basics of programming for people with techi kids\n",
    "\n",
    "##### Written By: Martin Jay McKee"
   ]
  },
  {
   "cell_type": "markdown",
   "metadata": {},
   "source": [
    "### Overview\n",
    "\n",
    "It was 1983 and my parents had just bought their first computer.  It was an original Tandy 1000 with dual 5 1/4\" floppy drives -- and no hard drive.  My current programmable, hand held, calculator (an HP 50) is dozens of times more powerful than this machine was, not to mention the cell phones that everyone carries with them these days (hundreds of times more powerful).  But, this computer was my introduction to the world of computers.  My mother was a scientific programmer, so what did she decide to do with her almost three-year-old son? What else? Teach him to program.\n",
    "\n",
    "In those early years I wrote the beginning of a number of computer games with her -- all in the BASIC programming language.  None of them were ever finished.  That was never the point.  Some were text based adventures, some had graphics and sound.  All were terrible.  What was important, however, was that I learned to understand computers as tools which were not mysterious and untouchable, but as imminently understandable and usable.  I had a programmer for a mother so \"of course\" one might say, I would be able to learn how to program.  The cool thing about programming, however, is that a little knowledge goes a long ways.  No one needs to reach the \"rock-star\" level of programming to reap the benefits.  Anyone can (and I belive should) take those first steps to pull the veil back... if only a little.\n",
    "\n",
    "This tutorial has been written to help parents learn just enough about programming to be able to keep up with their children who wish to learn programming.  At the end, you will not know enough to create anything from whole cloth; but following the tutorial should provide, at least, enough literacy in computer science and programming that it will allow one to be able to follow the general flow of most typical programming languages, understand when a program is described to you, and be able to make suggestions at a basic level.\n",
    "\n",
    "This tutorial does not attempt to go into specific programming information.  It is appropriate, however, as an introduction for most programming in the spaces of games and robotics logic, data manipulation and sorting, etc.  Graphics, hardware interface, web programming and databases will all require external libraries.  The good news is that once this tutorial is understood, it should be possible to understand the documentation for such libraries too!\n",
    "\n",
    "![The Python Logo](images/python1.png)\n",
    "\n",
    "This tutorial uses the Python programming language.  Python is an interpreted scripting language that is widely used in a number of industries.  Python's creator -- Guido Van Rossum -- started writing the first version of Python around Christmas 1989.  He is now known as the BDFL (Benevolent Dictator For Life), and is a central member of Python development still.  The name Python derives not from the snake (though it does have a snake mascot), but from the British comedy troupe Monty Python.  It is typical for Python examples to depend upon (or be in the style of) Monty Python skits -- a convention which we shall follow here.\n",
    "\n",
    "The tutorial is split into two parts.  First it describes some basic computer science concepts which are crucial to understand if one is going to be doing any creative programming (it is certainly possible to just copy/paste without this understanding, but who wants to be limited to that?).  The second part of the tutorial outlines the language syntax of Python.  \n",
    "\n",
    "#### *A final appendix, not really necessary to understand the remainder of the tutorial, compares the syntax of several widely used languages (C++, Java, JavaScript, Python, C#)\n",
    "\n",
    "### Requirements\n",
    "To work through this tutorial, it is necessary to install the Jupyter Notebook engine and a Python 3 interpreter.  The simplest way to do this is to install the Anaconda scientific distribution.  This can be found at, [Anaconda Distribution](https://www.anaconda.com/download/).  Other information about installing the necessary software can be found at [Jupyter Installation Documentation](http://jupyter.readthedocs.io/en/latest/install.html).  Once the software is correctly installed, continue on to the basics of Jupyter Notebook section before continuing to the primary tutorial."
   ]
  },
  {
   "cell_type": "markdown",
   "metadata": {},
   "source": [
    "### Intro to Jupyter\n",
    "The Jupyter Notebook project provides a very nice way to produce books with executable code embedded in them.  Notebooks are arranged as lists of _cells_.  Each cell can be one of several types.  This tutorial uses only two: Markdown and Code.  Markdown cells contain all of the _text_ of the tutorial.  They are informational.  The Code cells are where executable Python code lives.  To move between cells simply scroll until the cell you want is in view, and click on it.  If you double click on a cell, it will enter edit mode.  Code cells will look the same, if this happens.  Markup cells will show the raw Markup with all the formatting information.  To run a cell you can click the little run icon from the toolbar or press Shift-Enter.  Running a code cell will print the results below the cell and running a Markup cell will format the text, and make it look nice again.  As a test, double-click on this text here and then reformat it using Shift-Enter.\n",
    "\n",
    "You now know all that is really needed in Jupyter for this tutorial.  Jupyter is a really powerful project, however, so if you find this interesting, there's lots more to learn and maybe you'll find it useful for other reasons."
   ]
  },
  {
   "cell_type": "markdown",
   "metadata": {},
   "source": [
    "## Intro to CSci\n",
    "\n",
    "### What is CSci?\n",
    "Computer Science (*CSci*) is the study of how computers and computation work.  Some programmers feel that *CSci* isn't an important part of being a programmer.  But, being a programmer without having some basic knowledge of *CSci* is like being a writer without knowledge of Grammar.  You can do it, but there are major tools missing from your tool box.  And, if you don't know the rules, you can't tell when you are breaking them.\n",
    "\n",
    "Computer Science is the glue that holds together all the programming disciplines.  There are many topics that are important, however, we will talk only about computation, algorithms, language paradigms and program analysis.\n",
    "\n",
    "### Computation\n",
    "The theory of computation has supported dozens (possibly hundreds) of doctoral theses.  Obviously we will only barely scratch the surface here.  Computation Theory is a branch of mathematics (or, depending upon who you ask, *CSci*) that deals with the question of what sorts of problems are \"computable\".  Some very interesting results in the early 20th century proved mathematically that there are problems that cannot be solved within the formal systems they are designed.  One version of this was Godel's Incompleteness Theorm, another was Turning's proof of the unsolvability of the Halting problem.  The first demonstrated that there is no single self-consistent system of mathematics that is based on a set of axioms (guesses) which can be proven by the same system.  It showed that even math *must* be based on some guesses.  And, actually, that there is no one \"right\" set of guesses.  Different forms of math can be created using different axioms and they are all just as valid as any other.  More importantly, they are homeomorphic to one another.  There are ways to transform axioms into each other to show that all of these (different) systems are -- in some abstract manner -- identical.\n",
    "\n",
    "The Halting problem came out of Alan Turing's search for the limits of \"computable\" functions.  It may be phrased this way. Is there a process that can look at any finite program and decide that it will, absolutely, halt.  That is, is there a single way to look at any program and to know, without a doubt, that that program will end at some point in the future.  What Turing proved is that there *is no* procedure that can, in general, do this.  The Halting problem is uncomputable.\n",
    "\n",
    "By marking the limits of what isn't computable, however, early theorists were able to determine what computers *were* capable of, and it's quite a bit!  Having knowledge of the existance of uncomputable problems is useful because it allows us to think, \"if this isn't working, is that because what I want to do is simply impossible?\"  Usually the answer is no.  But, as with all things in programming, it can be surprising the places that you run into such impossible problems.\n",
    "\n",
    "Most computer languages are compiled.  In a compiler, there are optimizers.  Those optimizers typically run into a version of the Halting Problem.  It is not much of an exaggeration to say that the majority of programs ever run has been limited in its performance because the Halting Problem made it impossible to solve the problem exactly and heuristic methods (again, guesses) had to be used instead.\n",
    "\n",
    "There are a few requirements for a computer (or language) to be able to compute everything that is computable and we will look at all of those when we get to our Python introduction.  Basically, a computational system must be able to store data (variables), to modify that data (arithmetic/assignment/and other operations), and to change the flow of the program based upon the data (conditionals/loops).  A computational system which posesses all of these features is said to be Turing complete.\n",
    "\n",
    "\n",
    "### Algorithms\n",
    "Having examined what computation is and, therefore, what a computer is capable of doing.  We will begin with the very core of any program -- algorithms.  An algorithm (derived from the title of an Arabic mathematician, al-Kwarizimi), is a process by which something is achieved.  In cooking, a recipie is an algorithm that converts ingredents into a final dish.  In automotive tuning, algorithms are used to adjust spark plug and injector timing.  And, in strength training, one may use an algorithm to determine the best number of reps for any particular exercise.  Algorithms are everywhere.\n",
    "\n",
    "In computer science, algorithms also form the basis of everything.  There are sorting algorithms, search algorithms, comparison, and many others.  Anywhere that a program needs to follow a certain process, it can be described as using an algorithm.  And this is precisely why they are so important.  By understanding a program as a combination of simpler algorithms, it becomes easier to understand how a program is working.\n",
    "\n",
    "#### Bubble Sort\n",
    "To see how this works, we'll look at a very basic sorting algorithm known as bubble sort. The idea of this algorithm is that you look at pairs of values in a list.  If the second value is larger than the first, you swap them.  You then advance one step to the left in the list.  As you do this proceedure (algorithm) the larger values will \"bubble\" to the top.  In fact, if you have a list of *N* items (the letter 'N' is often used to describe the length of a list, it stands for \"*N*umber\") then if you apply the check, swap, advance, proceedure to the list *N* times the list is guaranteed to be in ascending order.\n",
    "\n",
    "In a very real way, however, what was just described can be broken into at least two nested algorithms.  The operation, where we swap values is an algorithm in itself.  While we haven't started looking at Python code, do your best to follow along (the comments on the right should help).  A simple swap operation might look as follows. Be sure to run the the next cell (Shift-Enter) so that Jupyter knows the function is there later."
   ]
  },
  {
   "cell_type": "code",
   "execution_count": 1,
   "metadata": {
    "collapsed": true
   },
   "outputs": [],
   "source": [
    "def swapIndex(data, first, second): # This line is defining (def) a function named swapIndex that has three parameters\n",
    "    temp = data[first]              # Next we store one of the values in a temporary location, variable temp\n",
    "    data[first] = data[second]      # After that, we store the second value into the location of the first\n",
    "    data[second] = temp             # And, finally, store the first value (which was saved seperately) into the second"
   ]
  },
  {
   "cell_type": "markdown",
   "metadata": {},
   "source": [
    "The first order of business is to describe how this simpler algorithm works.  Perhaps an easy way to visualize this with two balls in two boxes.  To begin with, ball A is in the first box and ball B is in the second box.  We want ball B in the first box and ball A in the second box.  There are rules though.  To begin with, we can only lift one ball out of a box at a time.  Additionally, each box can only ever hold a single ball.  We seem to be stuck.  But, the solution is simple.  Introduce a third box -- the temporary box.\n",
    "<img src=\"images/swap_example.png\" alt=\"A graphic showing the process of a swap operation\" style=\"width: 300px;\"/>\n",
    "\n",
    "At this point, the swap operation becomes simple.  Ball A is moved to to the temporary box, Ball B (in the second box) is moved to the first box, and finally the ball in temporary (Ball A) is moved back to the second box.  We've found an algorithm that follows all the rules.  Before continuing, be sure that you really understand how this swap algorithm works (don't worry about the Python code, focus on the actual process).  When you understand the process well, it beoomes possible to write your own code where other people might have to cut-and-paste a solution.  It is also much more comfortable actually knowing _why_ a program works the way it does.\n",
    "\n",
    "Having gotten some understanding of this simpler algorithm, let's take a look at the code for the full bubble sort.  Again, do your best to follow the code, but understand that I'm throwing a lot at you.  One of the most difficult things a programmer has to do is to look at a new codebase and figure out what the heck is going on.  Sometimes just tracing the \"flow\" of a piece of code is a good starting point.  Sometimes, trying to understand what the different variables and functions do is a good approach.  If the programmer who wrote the code did a good job with names, that can be easy.  If they chose names at random, it can lead you up the garden path.\n",
    "\n",
    "A simple bubble sort might look like this (again, execute the code in the cell with Shift-Enter),"
   ]
  },
  {
   "cell_type": "code",
   "execution_count": 2,
   "metadata": {
    "collapsed": false
   },
   "outputs": [],
   "source": [
    "def bubbleSort(data):                           # Define the function bubbleSort, it has one parameter named data\n",
    "    N = len(data)  - 1                          # Get the one less than the length of the list, store it in variable N\n",
    "    for _ in range(N):                          # Just loop N times\n",
    "        for index in range(N-1):                # Loop over all the list indicies from 0 to N-2 (skip the last one) \n",
    "            first = index                       # Get the index of the first element, it's just the current index\n",
    "            second = index + 1                  # Get the index of the second element, it's just one past the current\n",
    "            if data[first] > data[second]:      # Check if the first value is greater than the second value\n",
    "                swapIndex(data, first, second)  # If it is, swap the first and second values\n",
    "            print(data)                         # Print out the list so that we can watch it being sorted\n",
    "        print('')                               # Print an empty line, so we can see the seperate loops"
   ]
  },
  {
   "cell_type": "markdown",
   "metadata": {},
   "source": [
    "The code begins by defining a function that we will use shortly to sort lists.  We name it bubbleSort.  The function takes a single parameter, which is called _data_.  The parameter, _data_, will be a Python list.  We wish to loop over all the values except for the very last one, so we save the length of the list minus one into the variable _N_.  That value is then used to define two loops.  An outer loop, which simply goes over the inner loop _N_ times, and an inner loop which steps through the values in the list and does the actual bubble sort.  The inner loop has a variable named _index_ which tells us where we are in the list.  It'll have a value that starts at 0 (the first value in a Python list is called *0*) and it ends at N-2 (because the _range_ function gives values up to but not including the end value).  Inside the loop we figure out what the indicies of the first and second values we wish to compare are, do the comparison (with the *if* statement) and swap the values (using the function we defined above) if the first is bigger than the second.  We can test our algorithm by creating a list and passing it to the function.  Run the following cell to see what the results are."
   ]
  },
  {
   "cell_type": "code",
   "execution_count": 3,
   "metadata": {
    "collapsed": false
   },
   "outputs": [
    {
     "name": "stdout",
     "output_type": "stream",
     "text": [
      "[1, 6, 2, 0]\n",
      "[1, 2, 6, 0]\n",
      "\n",
      "[1, 2, 6, 0]\n",
      "[1, 2, 6, 0]\n",
      "\n",
      "[1, 2, 6, 0]\n",
      "[1, 2, 6, 0]\n",
      "\n"
     ]
    }
   ],
   "source": [
    "data = [1, 6, 2, 0]\n",
    "bubbleSort(data)"
   ]
  },
  {
   "cell_type": "markdown",
   "metadata": {},
   "source": [
    "As can be seen, the numbers begin out of order, but by the end they are increasing as they should be.  The algorithm is working!  Try modifying the list above and rerunning the code.  It should work for any length of list, and with any numbers.  What happens if the list has two elements?  What about five?  What about negative numbers? Just remember, a Python list starts with a left square brace '[', has a number of values seperated by commas, and ends with a right square brace ']'.  If you get lots of funny colored warnings when you try to run the cell, check that the list syntax (we'll get to this word later!) is valid.\n",
    "\n",
    "One advantage of the way that Python works is that it allows you to compare more than just numbers.  The cheese shop owner has asked us to organize a list of cheese names alphabetically.  Luckily, our bubbleSort() function will do that just fine!"
   ]
  },
  {
   "cell_type": "code",
   "execution_count": 4,
   "metadata": {
    "collapsed": false
   },
   "outputs": [
    {
     "name": "stdout",
     "output_type": "stream",
     "text": [
      "['mozzarella', 'parmesan', 'cheddar', 'goda', 'blue cheese']\n",
      "['mozzarella', 'cheddar', 'parmesan', 'goda', 'blue cheese']\n",
      "['mozzarella', 'cheddar', 'goda', 'parmesan', 'blue cheese']\n",
      "\n",
      "['cheddar', 'mozzarella', 'goda', 'parmesan', 'blue cheese']\n",
      "['cheddar', 'goda', 'mozzarella', 'parmesan', 'blue cheese']\n",
      "['cheddar', 'goda', 'mozzarella', 'parmesan', 'blue cheese']\n",
      "\n",
      "['cheddar', 'goda', 'mozzarella', 'parmesan', 'blue cheese']\n",
      "['cheddar', 'goda', 'mozzarella', 'parmesan', 'blue cheese']\n",
      "['cheddar', 'goda', 'mozzarella', 'parmesan', 'blue cheese']\n",
      "\n",
      "['cheddar', 'goda', 'mozzarella', 'parmesan', 'blue cheese']\n",
      "['cheddar', 'goda', 'mozzarella', 'parmesan', 'blue cheese']\n",
      "['cheddar', 'goda', 'mozzarella', 'parmesan', 'blue cheese']\n",
      "\n"
     ]
    }
   ],
   "source": [
    "data = [\"parmesan\", \"mozzarella\", \"cheddar\", \"goda\", \"blue cheese\"]\n",
    "bubbleSort(data)"
   ]
  },
  {
   "cell_type": "markdown",
   "metadata": {},
   "source": [
    "One thing that you may have noticed is that our bubble sort seems to be doing the same thing over and over.  Obviously the algorithm is working, but could it be more efficient?  Well, since I'm asking, the answer is obviously yes.  But how?  Well, one thing that we haven't talked about yet is that a bubble sort will always push the largest value remaining as far up as it goes.  What's important about that is that every time we do our inner loop, we can actually look at a smaller part of the list.\n",
    "\n",
    "The next function _bubbleSort2_ is slightly modified to do that.  It looks almost the same, the changes are subtle."
   ]
  },
  {
   "cell_type": "code",
   "execution_count": 5,
   "metadata": {
    "collapsed": true
   },
   "outputs": [],
   "source": [
    "def bubbleSort2(data):                          # Define the function bubbleSort2, it has one parameter named data\n",
    "    N = len(data) - 1                           # Get the one less than the length of the list, store it in variable N\n",
    "    for end in reversed(range(N+1)):              # Loop N times and change the length of the inner loop\n",
    "        for index in range(0, end):             # Loop over all the list indicies from 0 to end (skip the last one) \n",
    "            first = index                       # Get the index of the first element, it's just the current index\n",
    "            second = index + 1                  # Get the index of the second element, it's just one past the current\n",
    "            if data[first] > data[second]:      # Check if the first value is greater than the second value\n",
    "                swapIndex(data, first, second)  # If it is, swap the first and second values\n",
    "            print(data)                         # Print out the list so that we can watch it being sorted\n",
    "        print('')                               # Print an empty line, so we can see the seperate loops"
   ]
  },
  {
   "cell_type": "markdown",
   "metadata": {},
   "source": [
    "Testing this new function on our cheese list, however, we get a totally different result."
   ]
  },
  {
   "cell_type": "code",
   "execution_count": 6,
   "metadata": {
    "collapsed": false
   },
   "outputs": [
    {
     "name": "stdout",
     "output_type": "stream",
     "text": [
      "['mozzarella', 'parmesan', 'cheddar', 'goda', 'blue cheese']\n",
      "['mozzarella', 'cheddar', 'parmesan', 'goda', 'blue cheese']\n",
      "['mozzarella', 'cheddar', 'goda', 'parmesan', 'blue cheese']\n",
      "['mozzarella', 'cheddar', 'goda', 'blue cheese', 'parmesan']\n",
      "\n",
      "['cheddar', 'mozzarella', 'goda', 'blue cheese', 'parmesan']\n",
      "['cheddar', 'goda', 'mozzarella', 'blue cheese', 'parmesan']\n",
      "['cheddar', 'goda', 'blue cheese', 'mozzarella', 'parmesan']\n",
      "\n",
      "['cheddar', 'goda', 'blue cheese', 'mozzarella', 'parmesan']\n",
      "['cheddar', 'blue cheese', 'goda', 'mozzarella', 'parmesan']\n",
      "\n",
      "['blue cheese', 'cheddar', 'goda', 'mozzarella', 'parmesan']\n",
      "\n",
      "\n"
     ]
    }
   ],
   "source": [
    "data = [\"parmesan\", \"mozzarella\", \"cheddar\", \"goda\", \"blue cheese\"]\n",
    "bubbleSort2(data)"
   ]
  },
  {
   "cell_type": "markdown",
   "metadata": {},
   "source": [
    "Where before ever time we went throught the outer loop we executed the inner loop the same number of times, nowe the inner loop is being executed one time less each time.  The result is that our initial function ran the inner loop 16 times and our modified algorithm ran the same inner loop 10 times.  That's a savings of 37.5%!  With a small modification to two lines, we have gained almost 40% speed.  And this is why it's so important to understand algorithms.  On the one hand, when we understand algorithms, we are able understand our program at a deeper level than if we treat algorithms as a mysterious black-box.  Even more importantly, however, it is possible to make huge improvements in how fast a program is by making sure that it isn't doing things it doesn't need to do.\n",
    "\n",
    "It is worth saying that our bubble sort could still be improved and, honestly, bubble sort is considered a poor sorting algorithm (though others are substantially more complicated, hence not using them here).  If we needed to sort a list of every cheese in the world ([List of 1831 Cheeses](https://www.cheese.com/alphabetical/)), it would make sense to use a better algorithm.  As it stands, we are getting results instantly, so who really cares?  Fast enough is fast enough.\n",
    "\n",
    "### Programming Paradigms\n",
    "There are different ways that programming languages work.  What we have seen thus far is a procedural style of programming, often called an imperative style.  There are many others.  We'll just look at some of the most popular.\n",
    "\n",
    "#### Imperative\n",
    "An imperative programming style is one in which program \"state\" is modified by commands.  State may be something as simple as a number or as complicated as an entire database.  Commands can range from assignment ( a=4 is a command that puts the value 4 in a box named _a_) to displaying a 3D model on the screen.  What is important about an imperative style, however, is that the program functions at least in part as a result of its \"side effects\".  When we say a=4, that might, also, change the color of a pixel on the screen.  This is a very direct way to interact with the computer, but it can be dangerous.  Many people feel that an imperative style is more prone to programming bugs than any other.  At the same time, most languages (C/C++, C#, Java, JavaScript, Python, Perl, Ruby, Fortran, Cobol, Ada, etc.) are imperative in nature.\n",
    "\n",
    "#### Functional\n",
    "A pure functional language is one in which no program state is ever modified.  If changes need to be made, completely new state is created.  This has a number of advantages when it comes to program safety.  On the one hand, it gets rid of side-effects as a way to make something happen.  This makes it more clear what the program is doing, since everything is in the code, however, it often means that more code is needed to do the same thing.  Another problem with the functional programming paradigm is that it hasn't been taught as often, so people are simply less familiar with it.  Some functional languages are LISP, Scheme, Haskell and Clojure.  More and more languages are getting some functional features, such as C++, Java, JavaScript, Ruby and Python.\n",
    "\n",
    "#### Declarative\n",
    "A declarative language describes what the desired result is rather than how to get there.  Declarative languages can be extremely powerful and very easy to use, but they tend to be better as a DSL (Domain Specific Language).  That is, a language that is targeted at doing one thing really well.  An example of this might be a language that is used to configure another program.  By making a language that can describe the color of buttons, text, etc. it becomes much simpler to change the look of a program.  There are other domains that declarative languages excell in besides configuration.  For instance, physical modeling (for bridges, for instance) can be easily described.  It is also very good at solving logical equations (if 50% of politicians are murders and 50% of politicans are robbers, are all politicians crooks?).  This is precisely what the declarative language Prolog was designed for.\n",
    "\n",
    "While it is highly likely that you won't use a declarative language for the bulk of a program, any non-trivial project is likely to have a least one declarative language in it.  Indeed, HTML (HyperText Markup Language) the language which describes almost every web site on the planet is declarative.  So is CSS (Cascaded Style Sheets), which is used to configure colors, placement and so forth.  JavaScript, however, is imperative, and all over the place.  The web wouldn't be the same without it.\n",
    "\n",
    "#### Object-Oriented\n",
    "Object orientation is not, in itself, a paradigm.  Any of the other paradigms can be made object oriented.  In any case, it is such an important (and contriversal!) idea that it is worth mentioning.  While there are probably dozens of definitions of object-oriented programming what we'll use here is that object-orientation combines state with operations within \"objects\".  The idea is to combine everything into a single unit.  For instance, a flashlight might have a switch, a bulb and a battery.  Those are state.  It has operations too: on and off.\n",
    "\n",
    "Object-oriented programming is at the core of a number of very popular languages (C++, Java, Python, Ruby, Clojure, etc.) but it has lost popularity recently.  Many projects have taken this paradigm to the extreme, building objects with hundreds of pieces of data and sometimes thousands of operations.  At the same time, the data might be objects too, so that a programmer might have to look tens of layers down to figure out what is going on.  There's a war going on about where and when object-orientation is good, and when it is taken too far.  But, it's not going anywhere any time soon, because it alows for a much more logical organization of a program when it is done correctly.\n",
    "\n",
    "#### Why Paradigm Matters\n",
    "The above paradigms are not all of the paradigms that are to be found in programming right now.  And this is already feeling complicated.  So the real question is, why does this matter?  Well, it's about making life easier for yourself (programmers are, as a whole, lazy).  If a library uses a declarative style and you are thinking in an imperative style, it becomes much more difficult to write code and get it to work.  Recognizing when to change approaches makes it possible to match thinking to how code works most effectively.\n",
    "\n",
    "When schools teach an imperative language and send students out into the world saying, \"you're a programmer now, go program!\" They are doing a disservice.  It is like that old idiom, \"when all you have is a hammer, everything looks like a nail.\"  If there is understanding that not everything in the world is imperative, people have more flexibility when something doesn't seem to work right off.  And that's all that we really are looking for.\n",
    "\n",
    "Honestly, programming is a very creative process.  There are as many (good) solutions as there are programmers.  It's when we get stuck in a rut, and cease being creative, that programming becomes hard.\n",
    "\n",
    "### Program Analysis\n",
    "Program analysis is just what it sounds.  It is looking at a program and figuring out what it is intended to do, how it gets there, what the advantages and disadvantages of the approach are, and what improvements could be made.  It is an important part of learning how to program.  Indeed, as with teaching English, there is substantial evidence that people learn to program more effectively by reading programs than they do writing them.\n",
    "\n",
    "The bulk of this tutorial will not have anything which is particularly conducive to analysis.  The Python code snippets will be simple to the point of absurdity.  At the end, however, there are a number of code examples that are ideal for analysis.  They solve (fairly) easily understandable problems and the actual solutions are of fairly low complexity.  The purpose of these examples are two fold.  First, it is encouraged that the reader make an attempt to do an analysis on their own.  Read through the code several times, use what you learned in the language introduction.  Figure out how you might solve the problem on your own if you had to use a pen and paper.  There are many ways to accomplish an analysis.  In the process, and even if you do not reach a complete description of the program flow, you will be learning to decode the structure of a program.  It takes practice.  Secondly, however, each example is followed by a reasonably complete analysis (analyses can be painfully detailed, hopefully those included here are not!).  The analyses included here are designed to show just one approach to analysis.\n",
    "\n",
    "It should be noted, the code to solve these problems is not the \"best\" solution.  I would hope that they can be considered good solutions, but they are nothing more than that.  While it has been mentioned elsewhere, creativity is very important in programming.  There are as many solutions to a problem as there are programmers.  And, that is the main reason that having the skill of program analysis is so very important.  The chances that someone else will approach a problem the same way that you would have is exceptionally small.  We need to build the skill of viewing code in ways that are, perhaps, unnatural to us.  It can be difficult, but it can also be very enlightening.  Not many people sit down with code the same way they might with a good novel, but it can be just as satisfying to do so.  Much can be learned in the process."
   ]
  },
  {
   "cell_type": "markdown",
   "metadata": {},
   "source": [
    "## Intro to Python\n",
    "Now that we've introduced just a bit of computer science, let's take a look at a programming language that transfers well to other languages -- Python.  Python is a multi-paradigm programming language.  It can be used as an imperative language, object-oriented, functional and even declarative.  Our introduction to Python, however, will be as an imperative language.  This will hardly be a complete introduction to Python (however, an attempt will be made to identify where major ommissions occur).  Nevertheless, it will cover the subset of the language that is most similar to other imperative languages which are widely used.\n",
    "\n",
    "### A Note on Syntax\n",
    "Unlike natural languages (i.e. English), programming languages are exceptionally strict when it comes to syntax.  To make a program actually work, it is necessary to be careful with punctuation, careful with capitalization, careful with our words.  In this tutorial, we will not be looking at precise syntax.  When I later talk about code blocks, it can be useful to know that Python delineates them as sets of lines that are indented.  We won't worry about exactly where and how we need to do this.  There are places, also, that Python uses the colon (:).  It introduces code blocks.  While it is likely possible to determine the rules of usage from the examples that follow, that isn't the goal of this introduction.\n",
    "\n",
    "Syntax is specific to the language (and language syntax is annyoingly similar, leading to confusion).  The concepts of how programming languages work, however, are nearly universal.  If exact syntax is specifically desired, there are plenty of places that the information can be found.\n",
    "\n",
    "### Data Types\n",
    "In any programming language, there are things called data \"types\".  Ice cream is a _type_ of food. Breakfast cereal is another type of food.  Sometimes there will be _subtypes_ (think, chocolate, rockyroad, strawberry, etc.) but we're not really going to worry about that now.  The Python datatypes we will be examining are: integers, floats, strings and lists.  Some other Python datatypes that we won't be looking at are: dictionaries, tuples and classes.  In Python, we can request the type of a value with the _type_ function.  We'll see how to use that below.\n",
    "\n",
    "#### Integers\n",
    "An integer is any number that does not have a fractional part.  Integers can be positive or negitive.  An integer in Python just consists of the number.  For instance,"
   ]
  },
  {
   "cell_type": "code",
   "execution_count": 7,
   "metadata": {
    "collapsed": false
   },
   "outputs": [
    {
     "data": {
      "text/plain": [
       "42"
      ]
     },
     "execution_count": 7,
     "metadata": {},
     "output_type": "execute_result"
    }
   ],
   "source": [
    "42"
   ]
  },
  {
   "cell_type": "markdown",
   "metadata": {},
   "source": [
    "Is simply the integer with the value fourty-two.  If we use the _type_ function we can see that this value is of type integer."
   ]
  },
  {
   "cell_type": "code",
   "execution_count": 8,
   "metadata": {
    "collapsed": false
   },
   "outputs": [
    {
     "data": {
      "text/plain": [
       "int"
      ]
     },
     "execution_count": 8,
     "metadata": {},
     "output_type": "execute_result"
    }
   ],
   "source": [
    "type(42)"
   ]
  },
  {
   "cell_type": "markdown",
   "metadata": {},
   "source": [
    "That's really all there is to integers! They are the simplest data type.\n",
    "\n",
    "#### Floats\n",
    "Floats, or floating-point numbers, are the way that many languages deal with \"real\" numbers... that is, numbers that have numbers after the decimal point.  While they are often refered to as real numbers, mathematically, they are not because floats have a limited range and not every number is representible.  This is true also for the integers.  There is a biggest and smallest float that the computer can represent.  There are always two floats that are so close together that there is no representible number between them.  Mathematically though, there should be an infinite list of numbers inbetween.  Most of the time this doesn't matter.  There are times, however, that it causes really annoying bugs."
   ]
  },
  {
   "cell_type": "code",
   "execution_count": 9,
   "metadata": {
    "collapsed": false
   },
   "outputs": [
    {
     "name": "stdout",
     "output_type": "stream",
     "text": [
      "3.1415926535\n",
      "<type 'float'>\n"
     ]
    }
   ],
   "source": [
    "print(3.1415926535)\n",
    "print(type(3.1415926535))"
   ]
  },
  {
   "cell_type": "markdown",
   "metadata": {},
   "source": [
    "Is the first 11 digits of pi.  It's worth noting that this in the last cell there were two operations.  We printed the value itself and we printed the type of the value.  Having nested functions like this is actually indicative of a functional programming style.  What do you know!  These things show up everywhere.  Floats seem to work nicely, but what happens if we subtract two numbers really close to one another?"
   ]
  },
  {
   "cell_type": "code",
   "execution_count": 10,
   "metadata": {
    "collapsed": false
   },
   "outputs": [
    {
     "data": {
      "text/plain": [
       "1.000000082740371e-10"
      ]
     },
     "execution_count": 10,
     "metadata": {},
     "output_type": "execute_result"
    }
   ],
   "source": [
    "3.1415926535 - 3.1415926534"
   ]
  },
  {
   "cell_type": "markdown",
   "metadata": {},
   "source": [
    "Well, we get a kind of weird number.  We expected 0.0000000001, but we don't get exactly that.  Why?  Well, that goes back to the fact that the computer doesn't store these \"real\" numbers perfectly.  And this is why we have to be careful.  Most the the time though, it really doesn't matter.  Floats can be positive or negitive too.  They can be entered either as numbers only or they can be be entered in scientific notation (using the letter 'e')."
   ]
  },
  {
   "cell_type": "code",
   "execution_count": 11,
   "metadata": {
    "collapsed": false
   },
   "outputs": [
    {
     "name": "stdout",
     "output_type": "stream",
     "text": [
      "-42.0\n",
      "42.0\n",
      "0.001\n"
     ]
    }
   ],
   "source": [
    "print(-42.0)\n",
    "print(4.2e1)\n",
    "print(1e-3)"
   ]
  },
  {
   "cell_type": "markdown",
   "metadata": {},
   "source": [
    "#### Strings\n",
    "Strings are the datatype that holds text -- words, letters, etc.  In Python, strings can be wrapped in either single or double quotes.  This lets you nest quotes inside a string, which is a nice feature many other languages don't have.  Like other languages, however, there are some things that you may want in strings that must be inserted using \"escaped characters\".  Once we've introduced strings, we'll look at escaped characters.\n",
    "\n",
    "A very simple string might look like this,"
   ]
  },
  {
   "cell_type": "code",
   "execution_count": 12,
   "metadata": {
    "collapsed": false
   },
   "outputs": [
    {
     "data": {
      "text/plain": [
       "'I am a string'"
      ]
     },
     "execution_count": 12,
     "metadata": {},
     "output_type": "execute_result"
    }
   ],
   "source": [
    "\"I am a string\""
   ]
  },
  {
   "cell_type": "markdown",
   "metadata": {},
   "source": [
    "Or this,"
   ]
  },
  {
   "cell_type": "code",
   "execution_count": 13,
   "metadata": {
    "collapsed": false
   },
   "outputs": [
    {
     "data": {
      "text/plain": [
       "'I am a string too!'"
      ]
     },
     "execution_count": 13,
     "metadata": {},
     "output_type": "execute_result"
    }
   ],
   "source": [
    "'I am a string too!'"
   ]
  },
  {
   "cell_type": "markdown",
   "metadata": {},
   "source": [
    "In both cases, the interpreter prints it out using a single quote.  That's not really important, it's just the way the interpreter works.  What's more important is the fact that when we have a string, we can look at parts of it.  Python lets us use the subscript operator ([]) to do this.  Before we get too deeply involved, lets create a variable to hold our string."
   ]
  },
  {
   "cell_type": "code",
   "execution_count": 14,
   "metadata": {
    "collapsed": true
   },
   "outputs": [],
   "source": [
    "s = \"The Pet Shop\""
   ]
  },
  {
   "cell_type": "markdown",
   "metadata": {},
   "source": [
    "This code says, \"Python, please take the string value I am creating and put it in the box named 's'\".  Once we've done that, we can refer to the value using the variable name.  Let's look at a few different parts of the string."
   ]
  },
  {
   "cell_type": "code",
   "execution_count": 15,
   "metadata": {
    "collapsed": false
   },
   "outputs": [
    {
     "name": "stdout",
     "output_type": "stream",
     "text": [
      "Shop\n",
      "T\n",
      "Pet \n"
     ]
    }
   ],
   "source": [
    "print(s[-4:])         # Print the last four values in the string\n",
    "print(s[0])           # Print the first value in the string -- remember, the first value is index 0!\n",
    "print(s[4:8])         # Print the values in the string beginning at index 4 and up to but not including index 8 "
   ]
  },
  {
   "cell_type": "markdown",
   "metadata": {},
   "source": [
    "As mentioned above, there are also \"escaped characters\".  These are used for things like new-line and tab.  They are extremely useful for formatting text on the screen quickly. For instance, "
   ]
  },
  {
   "cell_type": "code",
   "execution_count": 16,
   "metadata": {
    "collapsed": false
   },
   "outputs": [
    {
     "name": "stdout",
     "output_type": "stream",
     "text": [
      "This\n",
      "is\ta string\n"
     ]
    }
   ],
   "source": [
    "print(\"This\\nis\\ta string\")"
   ]
  },
  {
   "cell_type": "markdown",
   "metadata": {},
   "source": [
    "So here, we used \\n to go to a new line and then \\t to insert a tab.  The biggest problem with escaped characters is that it makes the strings in your code much more difficult to read.  Sometimes it's worth it though.\n",
    "\n",
    "Another important way to use strings is with their _format_ method.  Strings, as it happens, are object.  They have both data and operations.  We've already seen one operation -- subscripting.  Formatting allows us to insert values into strings.  Let's see how this works using a loop."
   ]
  },
  {
   "cell_type": "code",
   "execution_count": 17,
   "metadata": {
    "collapsed": false
   },
   "outputs": [
    {
     "name": "stdout",
     "output_type": "stream",
     "text": [
      "The magic number is 0\n",
      "The magic number is 1\n",
      "The magic number is 2\n",
      "The magic number is 3\n",
      "The magic number is 4\n",
      "The magic number is 5\n",
      "The magic number is 6\n",
      "The magic number is 7\n",
      "The magic number is 8\n",
      "The magic number is 9\n"
     ]
    }
   ],
   "source": [
    "for number in range(10):\n",
    "    print(\"The magic number is {}\".format(number))"
   ]
  },
  {
   "cell_type": "markdown",
   "metadata": {},
   "source": [
    "This short little piece of code is doing an awful lot!  It is counting up and printing something that is different (though it follows a template, of course) each time.  We don't need to worry about how the _for_ loop is working right now, what's more important is to see that we can access the _format_ method by putting a period and then the function name right after the string object.  This is how all object operations are accessed except for a few things like subscripting which use square braces.  The braces are used, however, because it is shorter and clearer.  When a language does this, it is called syntactic sugar.  There are ways in the language to do it normally, but sometimes it makes sense to make specific operations just a little clearer.\n",
    "\n",
    "#### Lists\n",
    "The last datatype that we will be looking at from Python is the list.  A list is a mutable hetrogeneous sequence.  Ok....? Let's break that down.  A list is a sequence, which means it has an order.  A string is a sequence too.  And, just like the string, it is possible to access a list using subscripting.  Another important thing to remember about a list is that it can hold any other Python datatype as an element, and the elements don't have to all be the same.  For example, a list can hold ten integers; or, a list can hold five floats and a string.  A list can even hold lists of lists, of lists, ad infinitum.  This heterogenaity of lists is very useful and is a feature that many languages do not have.  This is a result of Python being a dynamically typed list.  But, I digress.  The final thing that is important about a list is that it is mutable.  The values in it can be changed without creating a new list.  That is different from a string, which is immutable, and cannot be changed.\n",
    "\n",
    "To create a list is more complicated than the other datatypes we have examined.  A list begins and ends with a square brace, and the items are seperated by a comma.  A simple list might look like this,"
   ]
  },
  {
   "cell_type": "code",
   "execution_count": 18,
   "metadata": {
    "collapsed": false
   },
   "outputs": [
    {
     "data": {
      "text/plain": [
       "[1, 2, 3, 4, 5]"
      ]
     },
     "execution_count": 18,
     "metadata": {},
     "output_type": "execute_result"
    }
   ],
   "source": [
    "[1, 2, 3, 4, 5]"
   ]
  },
  {
   "cell_type": "markdown",
   "metadata": {},
   "source": [
    "Of course, lists can get much more complicated,"
   ]
  },
  {
   "cell_type": "code",
   "execution_count": 19,
   "metadata": {
    "collapsed": false
   },
   "outputs": [
    {
     "data": {
      "text/plain": [
       "[1.7, 'Parrots', [[], 'stuff', 1]]"
      ]
     },
     "execution_count": 19,
     "metadata": {},
     "output_type": "execute_result"
    }
   ],
   "source": [
    "[1.7, \"Parrots\", [[], \"stuff\", 1]]"
   ]
  },
  {
   "cell_type": "markdown",
   "metadata": {},
   "source": [
    "Lists can also be empty, as shown in the last example.  What's the point of a complicated list like the last one?  Well, it's a really great way to transfer information that has a fixed structure.  Python has other (arguably better) methods for achieving that, but lists are very fast, and if it doesn't get too large, it's easy enough to manage.\n",
    "\n",
    "It is possible to create lists from other objects in Python too.  For instance, let's create a list of the first ten natural numbers,"
   ]
  },
  {
   "cell_type": "code",
   "execution_count": 20,
   "metadata": {
    "collapsed": false
   },
   "outputs": [
    {
     "data": {
      "text/plain": [
       "[0, 1, 2, 3, 4, 5, 6, 7, 8, 9]"
      ]
     },
     "execution_count": 20,
     "metadata": {},
     "output_type": "execute_result"
    }
   ],
   "source": [
    "list(range(10))"
   ]
  },
  {
   "cell_type": "markdown",
   "metadata": {},
   "source": [
    "We could replace that ten with any integer we want (or a variable that contains an integer!) and get a list up to the size of the largest integer that Python supports (which is often greater than 4 billion).\n",
    "\n",
    "#### Other Data Types\n",
    "As mentioned before, there are a number of other datatypes in Python.  Tuples are similar to lists, but they're immutable.  Dictionaries are much as they sound, data is tagged with a \"key\" that can be used to \"look it up\".  And classes are the basis of Python's object oriented features.  There are also the types boolean and none, as well as metaclasses, decimals, datetimes, etc.  To really use Python in the real world it is good to understand more of these types.  To get a basic overview of how programming works, however, we can profitably skip them here.\n",
    "\n",
    "### Variables\n",
    "The core of any imperative program is its state.  And state is stored, primarily, in variables.  Perhaps the easiest way to think about a variable is as a box with a name on it.  Statically typed languages, such as C/C++ and Java, have boxes that are sized to only fit a single type of data.  If the box is sized for an integer, only an integer can be put in the box.  In a dynamically typed language, such as Python, the boxes will change size for whatever data you put in them.  Either way works fine, it's just different approaches.\n",
    "\n",
    "Every language has rules for the names of variables.  In Python, the rules are pretty simple.  First, a variable can begin with an underscore or a letter.  After the first character, a variable name can have letters, numbers and underscores.  There are several reserved names in the language that cannot be used as a variable name. And, the variable names are case sensitive.  That is, the variable _a_ is different than the variable _A_.  In Python, the rules for function names are the same as for variables.  Which is nice.\n",
    "\n",
    "In general, single character names are a bad idea.  Writing programs in a way that they can be \"read\", kind of like English, is a very quick way to make a program more understandable -- both to other people, and to the programmer in two weeks!\n",
    "\n",
    "Variables are assigned values using the equal sign.  This is different than math.  What '=' means in Python is, put the thing on the right *into* the box on the left.  It isn't the two things are the same (Python uses two equal signs, '==', for that).  It is also possible to reassign the value in a variable, even to a different type.  For instance,"
   ]
  },
  {
   "cell_type": "code",
   "execution_count": 21,
   "metadata": {
    "collapsed": false
   },
   "outputs": [
    {
     "name": "stdout",
     "output_type": "stream",
     "text": [
      "8\n",
      "The bird is deceased!\n",
      "The bird is deceased!\n",
      "The bird is deceased!\n"
     ]
    }
   ],
   "source": [
    "my_variable = 8\n",
    "print(my_variable)\n",
    "my_variable = \"The bird is deceased!\"\n",
    "print(my_variable)\n",
    "another_variable = my_variable\n",
    "print(my_variable)\n",
    "print(another_variable)"
   ]
  },
  {
   "cell_type": "markdown",
   "metadata": {},
   "source": [
    "On the first line, we define a variable named <i>my_variable</i> and put the value 8 into it.  When we print the variable, we get that value back.  Next we reassign the variable to contain the value \"The bird is deceased!\".  The original value, 8, is gone.  We had to throw it out to put a new value in.  In fact, when we print the variable, we get new value printed and the old one is nowhere to be found.  Finally, we assign the original variable to a new variable.  Now if we print both of them, they both contain the same value.  The question is, are the two values the same, or different?  This can be an important question, and is one of the reasons that programming can be difficult.  Things don't always work the same way.  Let's do some experiements.  First, what happens if we use two integers?"
   ]
  },
  {
   "cell_type": "code",
   "execution_count": 22,
   "metadata": {
    "collapsed": false
   },
   "outputs": [
    {
     "name": "stdout",
     "output_type": "stream",
     "text": [
      "x = 4, y = 4\n",
      "x = 5, y = 4\n"
     ]
    }
   ],
   "source": [
    "x = 4                                   # Set up x and y to point to the same value\n",
    "y = x\n",
    "print(\"x = {}, y = {}\".format(x, y))    # Check that they do\n",
    "x = 5                                   # Set x to hold another value\n",
    "print(\"x = {}, y = {}\".format(x, y))    # What do we get?"
   ]
  },
  {
   "cell_type": "markdown",
   "metadata": {},
   "source": [
    "So really, in this case, the code does what we would expect.  When we simply assign to x, it changes only what is in that box, not the value in y as well.  You can think of it as making a copy when we do the ```y = x```.  So that each box holds a seperate 4.  When we reassign the value of x, it is clear that we simply throw away the duplicated 4 and replace it with a 5.  As it happens, the same thing will happen with floats, strings and lists too.  But there's a way for us to change the behavior.  What if we modify an element *in* a list?"
   ]
  },
  {
   "cell_type": "code",
   "execution_count": 23,
   "metadata": {
    "collapsed": false
   },
   "outputs": [
    {
     "name": "stdout",
     "output_type": "stream",
     "text": [
      "x = [1, 2, 3], y = [1, 2, 3]\n",
      "x = [1, 5, 3], y = [1, 5, 3]\n"
     ]
    }
   ],
   "source": [
    "x = [1, 2, 3]                           # Set up x and y to point to the same list of integers\n",
    "y = x\n",
    "print(\"x = {}, y = {}\".format(x, y))    # Check that they do\n",
    "x[1] = 5                                # Set the second item in the list x to hold another value\n",
    "print(\"x = {}, y = {}\".format(x, y))    # What do we get?"
   ]
  },
  {
   "cell_type": "markdown",
   "metadata": {},
   "source": [
    "Well that's odd.  It appears that this time the list wasn't actually copied.  The reason this happens is that we used the subscripting on the left side of the assignment.  This actually always happens.  We are just looking at a different variable than we initially thought.  The list itself is a variable with a name that Python choses (it is a, so called, anonymous object).  When we set the variable x to a new list, we simply replace the whole thing.  What we are doing above, however, is to drill down into the value we stored in x (and in y, as it happens), and reassigning a part of it.  Because the same object was assigned to two variables, the changes are represented in both variables.\n",
    "\n",
    "If this doesn't make a lot of sense, join the club!  It's kind of tricky.  It could be thought of as boxes within boxes, with arrows pointing here there and everywhere -- no better!  It is worth trying to tease out what is happening, however.  This is probably a good time to just play with defining and printing some variables in the cell below.  Use different datatypes, assign them to eachother, use subscripting.  Data manipulation is at the heart of an imperative programming style.  If it makes no sense, the rest of this tutorial is going to be rough going."
   ]
  },
  {
   "cell_type": "code",
   "execution_count": null,
   "metadata": {
    "collapsed": true
   },
   "outputs": [],
   "source": []
  },
  {
   "cell_type": "markdown",
   "metadata": {},
   "source": [
    "\n",
    "### Arithmetic\n",
    "Potentially the most obvious operation that a computer can do is math.  Heck, it's basically in the name.  Computers compute.  In many ways, arithmetic is one of the less interesting features of programming, but since it's at the core of almost everything a computer does, we need to at least look at it.\n",
    "\n",
    "All of the basic operations that you learn in school are available in Python.  Addition (+), subtraction (-), multiplication (&ast;), division(/), exponentiation(&ast;&ast;/pow()), modulus (%) and parenthesis (()) are core parts of the language.  Using these, Python makes a really nifty calculator!"
   ]
  },
  {
   "cell_type": "code",
   "execution_count": 24,
   "metadata": {
    "collapsed": false
   },
   "outputs": [
    {
     "name": "stdout",
     "output_type": "stream",
     "text": [
      "Base area = 270 sq. in.\n",
      "Cage volume = 3 cu. ft.\n",
      "Length of cage edges = 228 in.\n"
     ]
    }
   ],
   "source": [
    "# Do some quick calculations to figure out the size of a bird cage\n",
    "height = 24                                     # Here we define variables for height, width and depth\n",
    "width = 18\n",
    "depth = 15\n",
    "area = width * depth                            # Calculate the area by just multiplying \n",
    "volume = (height * area) / (12**3)              # Calculate the volume in cu. in. then convert to cu. ft.\n",
    "edge_perimeter = 4 * (width + height + depth)   # There are four edges of each length, so, add then multiply\n",
    "\n",
    "print(\"Base area = {} sq. in.\".format(area))\n",
    "print(\"Cage volume = {} cu. ft.\".format(volume))\n",
    "print(\"Length of cage edges = {} in.\".format(edge_perimeter))"
   ]
  },
  {
   "cell_type": "markdown",
   "metadata": {},
   "source": [
    "If trigonometric functions are required (sin, cos, tan, log, etc.) one can *import* the math library.  This will be the first time that we look at something that isn't part of the Python language.  We can use it just as if it _were_ part of the language though.  That's what makes libraries so useful.  A good library will basically extend the functionality of a language without adding any new syntax.  That's very powerful.\n",
    "\n",
    "The math library finds application in loads of game and robotics applications because it has the functions that are necessary to do coordinate transformations and the like.  Still, very few programmers have to deal with it directly, because any game framework that one might choose will have another layer of library above the math library to do those sorts of things in the context of the game library.  This is another place that programming can get difficult -- when there are many ways to do things.  At a language level, Python tries to enforce only a single way of doing something.  There are plenty of exceptions to that rule, but it is much more streamlined than many other languages.\n",
    "\n",
    "One other thing to point out is that the math library routines use radians for angles, rather than degrees.  While there are 360 degrees in a full circle, there are $2\\pi$ (that is, two times pi) radians in a single revolution.  Believe it or not, there are actually some very good reasons to work in radians rather than degrees.  We won't get into that now.  All that really matters is that we can convert from degrees to radians by dividing by 57.3, or go the other way by multiplying by the same number.  In Python, that looks like this,"
   ]
  },
  {
   "cell_type": "code",
   "execution_count": 25,
   "metadata": {
    "collapsed": true
   },
   "outputs": [],
   "source": [
    "def toDegrees(rad):       # Convert some number of radians to degrees\n",
    "    return 57.3 * rad\n",
    "\n",
    "def toRadians(deg):       # Convert some number of degrees to radians\n",
    "    return deg / 57.3"
   ]
  },
  {
   "cell_type": "markdown",
   "metadata": {},
   "source": [
    "With these functions, we can use the math library with degrees,"
   ]
  },
  {
   "cell_type": "code",
   "execution_count": 26,
   "metadata": {
    "collapsed": false
   },
   "outputs": [
    {
     "name": "stdout",
     "output_type": "stream",
     "text": [
      "0.0\n",
      "0.707065874398\n",
      "0.999999993307\n"
     ]
    }
   ],
   "source": [
    "from math import *        # This will import everything (*) from the math library\n",
    "\n",
    "print(sin(toRadians(0)))\n",
    "print(sin(toRadians(45)))\n",
    "print(sin(toRadians(90)))"
   ]
  },
  {
   "cell_type": "markdown",
   "metadata": {},
   "source": [
    "Between the builtin arithmetic operations and the math library, there is not much that you can't do as far as math is concerned.  It may not be fast, however.  When it is important to do math fast, there are libraries that help with specific things.  For Python there is the NumPy library, as well as SciPy.  Other languages have their own \"fast math\" libraries.  As always, if there is a need somewhere, there's probably a special-purpose library to fill it.  That's not what this tutorial is about, however.  Here we are mostly interested in the very basics of programming.\n",
    "\n",
    "### Comparisons\n",
    "Another very widely used operation in programming is value comparison.  Checking if two values are the same, different, greater than or less than one another is a first step toward writing programs that are able to make decisions.  And decisions are one of the steps toward Turing completeness.  All six of the value comparisons are available in Python, they are listed below,"
   ]
  },
  {
   "cell_type": "code",
   "execution_count": 27,
   "metadata": {
    "collapsed": false
   },
   "outputs": [
    {
     "name": "stdout",
     "output_type": "stream",
     "text": [
      "False\n",
      "False\n",
      "False\n",
      "True\n",
      "True\n",
      "True\n"
     ]
    }
   ],
   "source": [
    "print(4 > 5)       # Check strictly greater than  \n",
    "print(4 >= 5)      # Check greater than or equal to\n",
    "print(4 == 5)      # Check strictly equal to\n",
    "print(not 4 == 5)  # Check strictly not equal to\n",
    "print(4 <= 5)      # Check less than or equal to\n",
    "print(4 < 5)       # Check strictly less than"
   ]
  },
  {
   "cell_type": "markdown",
   "metadata": {},
   "source": [
    "It is possible to use these comparisons with any number type (integer, float, etc.) and it will also \"work\" with strings.  Unfortunately, it may not work the way you *want* it to work with non-numeric values.  For instance,"
   ]
  },
  {
   "cell_type": "code",
   "execution_count": 28,
   "metadata": {
    "collapsed": false
   },
   "outputs": [
    {
     "name": "stdout",
     "output_type": "stream",
     "text": [
      "False\n",
      "True\n",
      "False\n"
     ]
    }
   ],
   "source": [
    "print('1' == 1)\n",
    "print('1' > 1)\n",
    "print('1' < 1)"
   ]
  },
  {
   "cell_type": "markdown",
   "metadata": {},
   "source": [
    "The string representation of a number is not equal to its integer value.  The magnitude comparisons (> and <) are also acting weirdly.  To make this work, we can convert the string representation to an integer using the _int_ function.  There are also _float_ and _str_ (string) functions available.  So, doing the same as before, we are able to get the comparisions to work the way we would expect."
   ]
  },
  {
   "cell_type": "code",
   "execution_count": 29,
   "metadata": {
    "collapsed": false
   },
   "outputs": [
    {
     "name": "stdout",
     "output_type": "stream",
     "text": [
      "True\n",
      "False\n",
      "False\n"
     ]
    }
   ],
   "source": [
    "print(int('1') == 1)\n",
    "print(int('1') > 1)\n",
    "print(int('1') < 1)"
   ]
  },
  {
   "cell_type": "markdown",
   "metadata": {},
   "source": [
    "Excellent!  Comparisons return values of type *boolean*.  We didn't look at them above because they are really very simple.  A boolean holds one of two values: True or False.  These values are of most use inside conditional statements so they weren't worth introducing earlier.  We see them here though.  And we can, as always, assign a variable to hold a boolean value.  For instance,"
   ]
  },
  {
   "cell_type": "code",
   "execution_count": 30,
   "metadata": {
    "collapsed": false
   },
   "outputs": [
    {
     "name": "stdout",
     "output_type": "stream",
     "text": [
      "bigger = False\n"
     ]
    }
   ],
   "source": [
    "bigger = 4 > 7\n",
    "print(\"bigger = {}\".format(bigger))"
   ]
  },
  {
   "cell_type": "markdown",
   "metadata": {},
   "source": [
    "We can see that the variable _bigger_ holds the correct value as the number four is *not* greater than the number seven.\n",
    "\n",
    "In addition to these comparison operators, Python (and most other languages) provide some boolean operators which are used to combine boolean values.  Python has operators for _and_, _or_, and _not_.  In fact, those are their names.  We can see these working with a simple code fragment."
   ]
  },
  {
   "cell_type": "code",
   "execution_count": 31,
   "metadata": {
    "collapsed": false
   },
   "outputs": [
    {
     "name": "stdout",
     "output_type": "stream",
     "text": [
      "False\n",
      "False\n",
      "True\n",
      "True\n"
     ]
    }
   ],
   "source": [
    "print(not True)\n",
    "print(True and False)\n",
    "print(True or False)\n",
    "print(True and (not False))"
   ]
  },
  {
   "cell_type": "markdown",
   "metadata": {},
   "source": [
    "Other combinations of boolean values, of course, will lead to different results.  If this particular component of the language is of interest, a quick tutorial on boolean logic is in order.  Certainly it is a very powerful facility when used properly.  Many simple programs, however, may be able to get away without using boolean operators by simply splitting conditional statements into multiple steps.\n",
    "\n",
    "### Conditional Statements\n",
    "Now that we have introduced variables, arithmetic and conditions, it becomes much easier to discuss condition statements.  Python has a number of conditional statements.  Some languages, like C/C++ and Java, have even more.  Conditional statements are a way to make a program do something different based upon the program's state.\n",
    "\n",
    "#### _if_ Statement \n",
    "Let's look at the following program which uses an _if_ statement.  Before running it, try to figure out what it will print at the end.  Read the conditional statement just as you would in English, saying _then_ for the colon (:).  Make sure that the code starts by assigning x = 10."
   ]
  },
  {
   "cell_type": "code",
   "execution_count": 32,
   "metadata": {
    "collapsed": false
   },
   "outputs": [
    {
     "name": "stdout",
     "output_type": "stream",
     "text": [
      "10\n"
     ]
    }
   ],
   "source": [
    "x = 10         # To test other numbers, modify this line\n",
    "\n",
    "if x > 10:\n",
    "    x = x / 2\n",
    "print(x)"
   ]
  },
  {
   "cell_type": "markdown",
   "metadata": {},
   "source": [
    "Having run this little program, did you get what you expected? If not, look back at it and see if you can figure out why you didn't.  Conditional statements are really very simple.  We, honestly, tend to make them more complicated than they need to be.  This _if_ statement is going to do what is inside the \"nested\" block any time the condition is true.  If x is assigned as 10, however, the condition will not be true and the block will be skipped.  Thus, we end up printing the value ten at the end of the code.  Run the code again, this time set x to something that will ensure that the condition is is true.  Does it do what you expected?\n",
    "\n",
    "It may not.  In early versions of Python (2 and earlier) integer division would always return an integer value.  This would mean that (3/2) == 1, and (1 / 2) = 0.  Starting in Python 3, integer division will create a float if the computation would produce a fractional number.  Another of those silly inconsistencies which makes programming interesting (difficult).\n",
    "\n",
    "#### _else_ Statement\n",
    "In addition to _if_, Python provides an _else_ statement.  When the _if_ statement has a condition which is False, and if there are no other statements in the conditional block, the _else_ block will be run.  Given that, what would we expect to be the result of the following code if x = 5?  What about if x = 11? "
   ]
  },
  {
   "cell_type": "code",
   "execution_count": 33,
   "metadata": {
    "collapsed": false
   },
   "outputs": [
    {
     "name": "stdout",
     "output_type": "stream",
     "text": [
      "Option 1\n"
     ]
    }
   ],
   "source": [
    "x = 5       # To test other numbers, modify this line\n",
    "\n",
    "if 0 <= x < 10:  # This could also be written as (0 <= x) and (x < 10)\n",
    "    print(\"Option 1\")\n",
    "else:\n",
    "    print(\"Option 2\")"
   ]
  },
  {
   "cell_type": "markdown",
   "metadata": {},
   "source": [
    "The above code shows something that we didn't look at when we were finding out about condition expressions.  Python has some nice syntactic sugar which allows you to chain comparisons if they will be combined using the boolean operator _and_.  That is, conditions can be chained in this way if we want to know when the first condition *and* the second condition are True.  In all other cases, we have to be explicit about combining them.\n",
    "\n",
    "#### _elif_ Statement\n",
    "The final form of conditional statement in Python is the _elif_ statement (short for else-if).  This acts very much like an if statement.  In fact, just like an _else_ statement, there must be an _if_ statement at the beginning for an _elif_ statement to be used.  This allows for a single cascade of conditions to be used if a simple binary decision doesn't make sense."
   ]
  },
  {
   "cell_type": "code",
   "execution_count": 34,
   "metadata": {
    "collapsed": false
   },
   "outputs": [
    {
     "name": "stdout",
     "output_type": "stream",
     "text": [
      "Third is still placing.\n"
     ]
    }
   ],
   "source": [
    "x = 3      # To test other numbers, modify this line.\n",
    "\n",
    "if x == 1:\n",
    "    print(\"We're number one!\")\n",
    "elif x == 2:\n",
    "    print(\"Silver, baby!\")\n",
    "elif x == 3:\n",
    "    print(\"Third is still placing.\")\n",
    "else:\n",
    "    print(\"Ughhh.....\")\n"
   ]
  },
  {
   "cell_type": "markdown",
   "metadata": {},
   "source": [
    "Think about what this code is doing.  It's using all of our conditional statements.  There are three conditions that are explicitly defined (for x = 1, x = 2 and x = 3).  What happens if x = 4? What about if x = -1? Does that even make sense?\n",
    "\n",
    "One has to be very careful to ensure that conditions are actually testing what you want to test. For instance, the last fragment will run just fine if x = -100, but what place is that?  It doesn't make any sense.  In a program, it would probably make sense to check that the value of x is in the correct range before continuing to print the correct value.  One way we could do that is like this,"
   ]
  },
  {
   "cell_type": "code",
   "execution_count": 35,
   "metadata": {
    "collapsed": false
   },
   "outputs": [
    {
     "name": "stdout",
     "output_type": "stream",
     "text": [
      "ERROR: Invalid place\n"
     ]
    }
   ],
   "source": [
    "x = -100      # To test other numbers, modify this line.\n",
    "number_of_places = 42\n",
    "\n",
    "if x <= 0 or x > number_of_places:\n",
    "    print(\"ERROR: Invalid place\")\n",
    "elif x == 1:\n",
    "    print(\"We're number one!\")\n",
    "elif x == 2:\n",
    "    print(\"Silver, baby!\")\n",
    "elif x == 3:\n",
    "    print(\"Third is still placing.\")\n",
    "else:\n",
    "    print(\"Ughhh.....\")\n"
   ]
  },
  {
   "cell_type": "markdown",
   "metadata": {},
   "source": [
    "This modification checks two things.  It rejects any place less than or equal to zero and it also rejects any place larger than the number of places that are possible.  We don't want it to be possible to print something for place 50 out of 42.  That doesn't make any sense.  Using conditions like this is called defensive programming.  It is a way to reduce the danger of the \"garbage in, garbage out\" problem.\n",
    "\n",
    "It should be noted, this is not necessarily the *best* way to solve this problem in general, or even in Python.  Consider what would happen if wanted to have a different comment for every place up to ten.  This could get really messy.  More than that, it would become \"brittle\".  Brittle code is code that has a tendency to break even if it is handled carefully.  The more paths there are in a conditional, the more difficult it is to make it work without bugs.  As such, it makes sense to carefully check any conditions.  The same is true of the next type of statement, loops.\n",
    "\n",
    "#### Ternary Operator\n",
    "Some languages, Python among them, have what is sometimes called a ternary operator.  It is kind of like an _if_ statement and an _else_ statement crammed together; and, it makes some things much easier.  The ternary operator is useful when you want one value under certain conditions and another value under all other conditions.  For instance, maybe you want to print \"Positive\" or \"Negative\" based on whether a number is less than zero or not."
   ]
  },
  {
   "cell_type": "code",
   "execution_count": 48,
   "metadata": {
    "collapsed": false
   },
   "outputs": [
    {
     "name": "stdout",
     "output_type": "stream",
     "text": [
      "Positive\n"
     ]
    }
   ],
   "source": [
    "value = 7\n",
    "print(\"Negative\" if value < 0 else \"Positive\")"
   ]
  },
  {
   "cell_type": "markdown",
   "metadata": {},
   "source": [
    "Mathematically, of course, this is incorrect.  It is not deciding of the value is positive, but, rather, non-negative.  Be that as it may, it demonstrates how the ternary operator can be useful in some cases.  This doesn't add anything to the power of the other conditional statements, however.  It is perfectly simple to do the same thing using just a variable assignment and an _if_ statement.  It just isn't as compact."
   ]
  },
  {
   "cell_type": "code",
   "execution_count": 49,
   "metadata": {
    "collapsed": false
   },
   "outputs": [
    {
     "name": "stdout",
     "output_type": "stream",
     "text": [
      "Positive\n"
     ]
    }
   ],
   "source": [
    "value = 7\n",
    "string = \"Positive\"\n",
    "if value < 0:\n",
    "    string = \"Negative\"\n",
    "print(string)"
   ]
  },
  {
   "cell_type": "markdown",
   "metadata": {},
   "source": [
    "Choose your poision.\n",
    "\n",
    "### Loops\n",
    "There are not many different types of loops that are used in programming languages.  They all have the same names _for_ loops, _while_ loops, and (sometimes) _do-while_ loops.  These different loops can work in massively different ways in different languages, however.  Despite the similarity in names.  Python has particularly unusual _for_ loops when compared to the _for_ loops in traditional C/C++ and Java.  It is worth noting that Java and C++ have both added \"for-each\" loops that are much more like the Python _for_ loop.\n",
    "\n",
    "#### _for_ Loops\n",
    "In Python, reducing the actual implementation to the point of absurdity, a for loop iterates over a list.  That is, a for loop will remove each item of a list in turn and make it available for use inside the loop.  This is much different than _for_ loops in earlier languages, and can be a major point of confusion when transitioning between languages.  Let's look at an example,"
   ]
  },
  {
   "cell_type": "code",
   "execution_count": 36,
   "metadata": {
    "collapsed": false
   },
   "outputs": [
    {
     "name": "stdout",
     "output_type": "stream",
     "text": [
      "The bird is dead.\n",
      "The bird is pushing up daisies.\n",
      "The bird is deceased.\n"
     ]
    }
   ],
   "source": [
    "adjectives = ['dead', 'pushing up daisies', 'deceased']\n",
    "\n",
    "for adjective in adjectives:\n",
    "    print(\"The bird is {}.\".format(adjective))"
   ]
  },
  {
   "cell_type": "markdown",
   "metadata": {},
   "source": [
    "To begin, we create a list of adjectives (and adjectival phrases).  The for loop steps through the list (which comes after the keyword, _in_) and assigns each of the items in the list to the local variable _adjective_  (coming after the keyword, _for_) in turn.  The code inside the loop is then run, using this variable value.  The result is a series of sentences.  As it stands, there is really no complexity to this version of a for loop.  But, what if you just want to do something _N_ times?  How is that done?\n",
    "\n",
    "Well, somehow, a list-like object needs to be created to step through.  And, if we really don't care about a different value every time through the list, we can use a single underscore as the variable name.  It tells Python, \"I don't care about this value, so just throw it away.\"  If we want to print something three times, we could do it like this."
   ]
  },
  {
   "cell_type": "code",
   "execution_count": 37,
   "metadata": {
    "collapsed": false
   },
   "outputs": [
    {
     "name": "stdout",
     "output_type": "stream",
     "text": [
      "Three cheers for King George!\n",
      "Hip-Hip Hurray!\n",
      "Hip-Hip Hurray!\n",
      "Hip-Hip Hurray!\n"
     ]
    }
   ],
   "source": [
    "print(\"Three cheers for King George!\")\n",
    "for _ in range(3):\n",
    "    print(\"Hip-Hip Hurray!\")"
   ]
  },
  {
   "cell_type": "markdown",
   "metadata": {},
   "source": [
    "The range function will create a list-like object that returns the values 0, 1 and 2.  We really don't care what values it returns, however, so we tell Python that by using a single underscore as the variable name.\n",
    "\n",
    "The same structure can be used if we simply want to do something with a list of numbers, say, from ten to twenty."
   ]
  },
  {
   "cell_type": "code",
   "execution_count": 38,
   "metadata": {
    "collapsed": false
   },
   "outputs": [
    {
     "name": "stdout",
     "output_type": "stream",
     "text": [
      "10\n",
      "11\n",
      "12\n",
      "13\n",
      "14\n",
      "15\n",
      "16\n",
      "17\n",
      "18\n",
      "19\n",
      "20\n"
     ]
    }
   ],
   "source": [
    "for value in range(10, 21):\n",
    "    print(value)"
   ]
  },
  {
   "cell_type": "markdown",
   "metadata": {},
   "source": [
    "Now, why did I use the number twenty-one, when I wanted to go to the number twenty.  That's just how the _range_ function works.  It creates a list that starts with the first number (if only one number is given, the first number is zero) and it goes up to one less than the second value.  As with all of this programming stuff, there's actually a good reason to do this.  In such a simple program, however, it can seem really strange and it certainly leads to lots of bugs when you aren't prepared for it.  In this case, the _range_ function is designed to be used to generate indicies for lists and, of course, Python lists are zero based.  In a list with ten items, the first item is at position 0 and the last item is at position 9.  This is messed up so much in programming and engineering that it even has a name, a fencepost error.  If you have a yard 100' long and you want to divide it into segments 10' long, how many fenceposts do you need.  The answer, of course, is eleven, which doesn't make immediate sense to most people.  If it does to you, you may be blessed with never having problems with bounds errors on loops.  Lucky you.\n",
    "\n",
    "### _while_ Loops\n",
    "Another type of loop in Python is the _while_ loop.  This is a loop that continues to be executed \"as long as\" some condition is true.  One of the things that means is that the condition needs to be changed somehow inside the loop or it will never end.  That leads to programs that bog down a computer, sometimes crash it, and -- in all cases -- make it just a real pain.  So, _while_ loops are often used only if you absolutely need their greater flexibility.  Let's see how we could reimplement the last code using a while loop."
   ]
  },
  {
   "cell_type": "code",
   "execution_count": 39,
   "metadata": {
    "collapsed": false
   },
   "outputs": [
    {
     "name": "stdout",
     "output_type": "stream",
     "text": [
      "10\n",
      "11\n",
      "12\n",
      "13\n",
      "14\n",
      "15\n",
      "16\n",
      "17\n",
      "18\n",
      "19\n",
      "20\n"
     ]
    }
   ],
   "source": [
    "value = 10\n",
    "while value < 21:\n",
    "    print(value)\n",
    "    value = value + 1"
   ]
  },
  {
   "cell_type": "markdown",
   "metadata": {},
   "source": [
    "As you can see, the _while_ loop required more code than the _for_ loop version, twice as much, in fact.  That is often the cost of greater flexibility.  Any time you have more code, you also have more places to screw up.  So, more code is just a bad thing.  Which begs the question, when is it better to use a _while_ loop.  The answer is annoyingly easy -- when you have to.  Let's see what that means.\n",
    "\n",
    "Let's implement a bit of code that will calculate the recursion used in the Collatz Conjecture.  The math isn't really important, but there are two options, if the number is even then it is divided by two and if it is odd the number is multiplied by three and then one is added.  The Collatz Conjecture says that all numbers will, eventually, end up being one.  No one has managed to prove it; but, it has not been disproven either.  Every number tested has (sometimes after a *very* long time) gone to one."
   ]
  },
  {
   "cell_type": "code",
   "execution_count": 40,
   "metadata": {
    "collapsed": false
   },
   "outputs": [
    {
     "name": "stdout",
     "output_type": "stream",
     "text": [
      "14\n",
      "7\n",
      "22\n",
      "11\n",
      "34\n",
      "17\n",
      "52\n",
      "26\n",
      "13\n",
      "40\n",
      "20\n",
      "10\n",
      "5\n",
      "16\n",
      "8\n",
      "4\n",
      "2\n",
      "1\n"
     ]
    }
   ],
   "source": [
    "x = 14\n",
    "\n",
    "while not x == 1:\n",
    "    print(x)\n",
    "    if (x % 2) == 0:\n",
    "        x = (x / 2)\n",
    "    else:\n",
    "        x = (3*x) + 1\n",
    "print(x)"
   ]
  },
  {
   "cell_type": "markdown",
   "metadata": {},
   "source": [
    "Before we look too closely at the loop, let's look at the line with the _if_ statement.  That looks pretty knarly.  This condition is checking if the variable _x_ is even.  It does this using the modulus (%) operation which return the remainder of integer division.  This remainder is then compared to the value zero.  All even numbers will have a remainder of zero when divided by the number two, so the condition will be true.  If a number is not even, it is odd, so the _else_ conditional statement will be executed only for odd numbers.  That works.\n",
    "\n",
    "The while loop will continue to be executed whenever the variable _x_ *is not* equal to one.  Another way we could read this is to think, it will jump past the loop as soon as _x_ *is equal to* one.  You can look at the condition whichever way makes the most sense to you, as they are both logically identical.  In any case, this is a reasonable use of a _while_ loop and most other reasonable uses will look similar.  What makes this different from a _for_ loop is that the list isn't known at the beginning.  It's created as part of the loop.\n",
    "\n",
    "### Functions\n",
    "One of the major improvements in the quality of code comes from breaking the code up into sections that are understandible.  In the computer science introduction, this was described as finding nested algorithms from which to construct a program.  How are we able to seperate these algorithms though.  As we saw in the bubble sort example, Python (as with all modern programming languages) provides the ability to create what are called functions.  Functions are blocks of code with a name.  Data can be passed *into* a function, as parameters, and returned *from* a function, as a return value.  Functions are an important part of all programming paradigms.  It's a way to create a block of code that we can check seperate from the rest of the program.\n",
    "\n",
    "In a simple way, functions can be considered to be similar to functions in highschool math.  If one were to say $y = x^{2}$, we can directly map that to the Python function,"
   ]
  },
  {
   "cell_type": "code",
   "execution_count": null,
   "metadata": {
    "collapsed": true
   },
   "outputs": [],
   "source": [
    "def square(x):\n",
    "    return x**2"
   ]
  },
  {
   "cell_type": "markdown",
   "metadata": {},
   "source": [
    "This function represents the right side of of our math function.  In this case a function seems silly.  Why, for instance, would we want to replace the simple math ```x**2``` with the equally long function name ```square()```?  Well, obviously, this is only a short example.  If our math function was much more complicated, it would make more sense.  Additionally, however, Python actually allows passing around functions as values.  This is a functional programming idea and it can be increadiby useful, even for very short functions.  We won't look into this feature of the language any further here, as its usage is more advanced than need concern us.  However, it is worth nothing that even very short functions have a purpose.\n",
    "\n",
    "Getting back to our functions, let's examine the code.  In Python, a function is defined by first using the keyword ```def``` (define).  After that, we write the name of the function.  Function names use exactly the same rules as variable names.  Following the name, and inside parenthesis, are a list of parameters.  These are, essentially, variables that are available inside the function.  They are the way that data gets into the function (that's an oversimplification, of course, but it's good enough for now).  In the code block that follows the declaration, we find the implementation of the function.  The keyword ```return``` means \"take the data that you are given and transfer it back to whoever called this function.\"  Okay, what does that mean?  Let's look at some simple code using this function."
   ]
  },
  {
   "cell_type": "code",
   "execution_count": 57,
   "metadata": {
    "collapsed": false
   },
   "outputs": [
    {
     "name": "stdout",
     "output_type": "stream",
     "text": [
      "9\n"
     ]
    }
   ],
   "source": [
    "y = square(3)\n",
    "print(y)"
   ]
  },
  {
   "cell_type": "markdown",
   "metadata": {},
   "source": [
    "If we pass the value three into the function, we get the value we would expect stored in the variable ```y```.  The data passed in ends up in the variable ```x```.  ```x``` is squared and the result is then returned to where the function was called from.  In some ways, it can be viewed as the function call being replaced by the value it returns.\n",
    "\n",
    "The thing is, we don't always know what a function is going to do.  Being a language that allows side effects, Python doesn't make any attempt to limit things that functions do \"invisibly.\"  Take this function for instance,"
   ]
  },
  {
   "cell_type": "code",
   "execution_count": 58,
   "metadata": {
    "collapsed": false
   },
   "outputs": [
    {
     "name": "stdout",
     "output_type": "stream",
     "text": [
      "Hello!!!\n",
      "16\n"
     ]
    }
   ],
   "source": [
    "def loudSquare(x):\n",
    "    print(\"Hello!!!\")\n",
    "    return x**2\n",
    "\n",
    "print(loudSquare(4))"
   ]
  },
  {
   "cell_type": "markdown",
   "metadata": {},
   "source": [
    "Sometimes we want our functions to have additional side effects.  In this case, we could use the ```print``` inside the function to help us debug.  This is where functions deviate from the mathematical version, however.  If we look at the inputs and outputs of a function, we may be able to learn what it does. Or, maybe not.  With mathematical functions (and enough time) we could always work out what they do from just the inputs and outputs.  Even worse, there are ways to create stateful functions, which is to say that the way a function works is based on how it was called in the past.  These are complications that are difficult to avoid in an imperative style with side-effects and state mutation.  And this is why we need good documentation... and _sometimes_ get it.\n",
    "\n",
    "Bearing in mind all the complications of functions, it is possible to use them as if they are simple.  It's never a bad idea to pull out code and make a function.  Indeed, the idea of using functions to simplify code has been codified into the software engineering principle of *DRY* (*D*o not *R*epeat *Y*ourself).  The code that we have seen thus far have been increadibly simple. There haven't been any places where we have needed the same functionality in multiple places.  In real code, however, there are many times that the same functionality is needed all throughout the code.  This is when functions come into their own.  The function is written in only one place.  It can be debugged just once and, in the case that it needs to be changed, the change is made only in a single place."
   ]
  },
  {
   "cell_type": "markdown",
   "metadata": {},
   "source": [
    "\n",
    "## Examples\n",
    "At this point, we have examined all of the basic components of programming in an imperative style.  All that's left is to put it together in some way.  The easiest way to do this is to look at some examples.  To use the examples, make a first effort to read the example and understand how it is working prior to reading the description below.  Sometimes an example will have a fairly large setup before it (to make the context and purpose clear) and sometimes it will not.  Either way, focus on the code components that you see.  See if you can start blocking the code into small algorithms that do something specific.  Build the whole code up from there.\n",
    "\n",
    "### Guessing Random Number Game\n",
    "This example is just a simple guessing game but it introduces a number of important concepts.  You can change the difficulty of the game by changing the range of numbers it will choose from.  After that, the game will ask you to make guesses until you either guess the correct number of you run out of guesses."
   ]
  },
  {
   "cell_type": "code",
   "execution_count": null,
   "metadata": {
    "collapsed": false
   },
   "outputs": [],
   "source": [
    "minimum_number = 0   # Change the smallest number to guess here\n",
    "maximum_number = 100 # Change the largest number to guess here\n",
    "\n",
    "# NOTHING BELOW HERE NEEDS T0 BE CHANGED\n",
    "from random import randint        # random is the random number library, import just the randint function\n",
    "from math import log              # math is the math library, import just the log function\n",
    "\n",
    "real_value = randint(minimum_number, maximum_number + 1)\n",
    "maximum_guesses = int(log(maximum_number - minimum_number) / log(2.0))\n",
    "guess = 1\n",
    "correct = False\n",
    "\n",
    "while not correct and guess <= maximum_guesses:\n",
    "    remaining = maximum_guesses - guess + 1\n",
    "    print(\"You have {} {} left.\".format(remaining, \"guess\" if remaining == 1 else \"guesses\"))\n",
    "    \n",
    "    guessed_value = int(input(\"What number do you think it is? \"))\n",
    "    \n",
    "    if guessed_value == real_value:\n",
    "        correct = True\n",
    "    elif guessed_value > real_value:\n",
    "        print(\"Too high!\")\n",
    "    else:\n",
    "        print(\"Too low!\")\n",
    "        \n",
    "    print('')\n",
    "    guess = guess + 1\n",
    "\n",
    "if correct:\n",
    "    print(\"Great Job! The number was {}.\".format(real_value))\n",
    "else:\n",
    "    print(\"Too bad :(  Number was {}.\".format(real_value))"
   ]
  },
  {
   "cell_type": "markdown",
   "metadata": {},
   "source": [
    "#### About the game code\n",
    "This little game uses a little bit of everything -- variables, conditions and a loop.  It also uses two libraries, the math library (which we saw in the section on arithmetic) and the random library which is used to get \"random\" numbers.  It is worth mentioning that numbers in a computer are never really random. They are, at best, pseudorandom.  It is good enough for our purposes here, however.  \n",
    "\n",
    "The program begins with a little bit of configuration.  Two variables are set: one for the smallest number to guess and one for the largest.  This is the part of the program that would need to be changed to make it act differently.  It makes lots of sense to seperate this part out from the rest of the program whenever possible.  It's much easier to modify just a few variable values at the beginning than it is to dig into a bunch of code deep in a program.\n",
    "\n",
    "After the configuration, two functions are imported from the libraries.  First, _randint_ is imported from the _random_ library.  This function returns a random integer.  It acts just like the _range_ function that we saw earlier.  It will return numbers up to, but not including, the second number.\n",
    "\n",
    "After the functions are imported, there are four variables set.  The first one is a call to the _randint_ function.  It will get a random number somewhere in the range that we specified and, of course, we add one to the maximum number, so that it is possible to get it.  Next the maximum number of guesses is calculated.  The reasoning behind this math is described below.  Finally, the guess variable is initialized to one and the correct variable is initialized to False.  These two variables are used to keep track of where the player is in the game.\n",
    "\n",
    "Next we come to a while loop.  We use a while loop because the user is going to make guesses inside the loop, there is no list to iterate over at the beginning.  The loop will be executed if the last guess was *not* correct and the current guess is less than or equal to the maximum guess.  If either of those is False (either the last guess *was* correct or too many guesses have been made) the loop will be skipped.\n",
    "\n",
    "Inside the loop, the first operation is to calculate how many guesses are left.  If the current guess is the same as the maximum guess, there is still one guess left, so we get the formula in the code.  After calculating how many guesses remain, we print that so that the player knows.  This is a complicated line of code and we should break it up.  The outer function call is just a print function, so we know that it is going to display something for us.  Next we see a string with a call to the _format_ method.  There are two replacements we are going to be making (marked by curly braces) and, indeed, within the format function we pass two values.  The first value is just the number of remaining guesses we just calculated.  The second value is calculated using a ternary operator.  Since we want to have proper grammar, we say \"1 guess\" or \"x guesses\".  The condition in the ternary operator just looks for when the number of remaining guesses is exactly equal to one.\n",
    "\n",
    "Next we read a new guessed value.  The _input_ function is a Python built-in function and it does two things.  First it will display a prompt, then it will read a string from the player and return it.  Since we actually want an integer, rather than a string, we pass the return value of _input_ into the _int_ function.  After all that, the _guessed_value_ variable will contain the value that the user entered.  It is probably worth trying to enter things that aren't numbers, as it will break the program in strange ways.  A more complete implementation of this game would check that the user is actually entering something that looks like a number before trying to use it.\n",
    "\n",
    "Once the guessed value has been read in, the inner loop will compare the value to the _real_value_.  If they match are equal then the _if_ statement will set the _correct_ variable to True which will, eventually, lead to the loop not being repeated.  If the _guessed_value_ is not equal to _real_value_ then the _elif_ statement will be checked and either it or the _elese_ statement will be executed, telling the player if the guess was too high or too low.\n",
    "\n",
    "The very end of the inner loop simply prints an empty line and increments (increses by one) the value of _guess_.  These two actions prepare for the next attempt to guess the value.  Depending upon the number of guesses completed and whether or not the last guess matched, the loop will either be executed again or skipped.\n",
    "\n",
    "When the loop finally falls through, the remainder of the program consists of an _if-else_ statement which will select the final message to print based on the boolean value of _correct_.  If the final guess *was* correct, the _if_ statement will be executed, printing \"Good Job!\" and also printing what the value was.  If the _if_ statement is not executed, the _else_ statement will be executed, printing \"Too bad :(\" and informing the player what the correct value was.\n",
    "\n",
    "#### About calculating the number of guesses\n",
    "There's a really powerful algorithm in computer science called a binary search.  It allows you to reduce the search space but one half each and every time you look, so it is a very fast algorithm.  Indeed, in computation theory, it is considered O(log N), which is to say, big-Oh log of N.  Algorithms that are order log N are some of the fastest algorithms available.  In the case of guessing random numbers from a range like this, it is possible to use a binary search, so the program limits your number of guesses to a number which ensures that you never have extra guesses.  And, that is where the ugly math used to calculate maximum_guesses comes from.\n",
    "\n",
    "### Calculating first N prime numbers\n",
    "Searching for prime numbers is big business.  This program is just small fry.  Still, it can be fun to print long lists of numbers... really, it can!  This example will create a list of the first N prime numbers."
   ]
  },
  {
   "cell_type": "code",
   "execution_count": 3,
   "metadata": {
    "collapsed": false
   },
   "outputs": [
    {
     "name": "stdout",
     "output_type": "stream",
     "text": [
      "[2, 3, 5, 7, 11, 13, 17, 19, 23, 29, 31, 37, 41, 43, 47, 53, 59, 61, 67, 71, 73, 79, 83, 89, 97, 101, 103, 107, 109, 113, 127, 131, 137, 139, 149, 151, 157, 163, 167, 173, 179, 181, 191, 193, 197, 199, 211, 223, 227, 229, 233, 239, 241, 251, 257, 263, 269, 271, 277, 281, 283, 293, 307, 311, 313, 317, 331, 337, 347, 349, 353, 359, 367, 373, 379, 383, 389, 397, 401, 409, 419, 421, 431, 433, 439, 443, 449, 457, 461, 463, 467, 479, 487, 491, 499, 503, 509, 521, 523, 541, 547, 557, 563, 569, 571, 577, 587, 593, 599, 601, 607, 613, 617, 619, 631, 641, 643, 647, 653, 659, 661, 673, 677, 683, 691, 701, 709, 719, 727, 733, 739, 743, 751, 757, 761, 769, 773, 787, 797, 809, 811, 821, 823, 827, 829, 839, 853, 857, 859, 863, 877, 881, 883, 887, 907, 911, 919, 929, 937, 941, 947, 953, 967, 971, 977, 983, 991, 997, 1009, 1013, 1019, 1021, 1031, 1033, 1039, 1049, 1051, 1061, 1063, 1069, 1087, 1091, 1093, 1097, 1103, 1109, 1117, 1123, 1129, 1151, 1153, 1163, 1171, 1181, 1187, 1193, 1201, 1213, 1217, 1223, 1229, 1231, 1237, 1249, 1259, 1277, 1279, 1283, 1289, 1291, 1297, 1301, 1303, 1307, 1319, 1321, 1327, 1361, 1367, 1373, 1381, 1399, 1409, 1423, 1427, 1429, 1433, 1439, 1447, 1451, 1453, 1459, 1471, 1481, 1483, 1487, 1489, 1493, 1499, 1511, 1523, 1531, 1543, 1549, 1553, 1559, 1567, 1571, 1579, 1583]\n"
     ]
    }
   ],
   "source": [
    "N = 250         # Set this to how many of the prime numbers should be found\n",
    "\n",
    "from math import sqrt\n",
    "\n",
    "def checkIsPrime(value, primes):\n",
    "    maximum_factor = sqrt(value)\n",
    "    for prime in primes:\n",
    "        if prime > maximum_factor:\n",
    "            return True\n",
    "        if (value % prime) == 0:\n",
    "            return False\n",
    "    return True\n",
    "                \n",
    "primes = [2]\n",
    "value = 3\n",
    "for _ in range(N-1):\n",
    "    found = False\n",
    "    while not found:\n",
    "        found = checkIsPrime(value, primes)\n",
    "        if found:\n",
    "            primes.append(value)\n",
    "        value = value + 1\n",
    "print(primes)"
   ]
  },
  {
   "cell_type": "markdown",
   "metadata": {},
   "source": [
    "#### About checking the primality of a number\n",
    "A number is prime if it is only divisible by itself and the number one.  That's the mathematical definition -- no problem.  How do we check that a number *is* prime though?  Let's take a look at the algorithm in the ```checkIsPrime``` function.  Primality testing can be rephrased as being a check on a numbers factors.  Factors are then numbers that are multiplied to get a number.  Prime numbers have no factors.  Compound numbers, however, have some factors.  Thus, a way to check if a number is prime is to check if it has _any_ factors.  If a number has a factor, then it isn't prime.  This is the way that the primality check here works.  The function assumes that there is a list of all the possible factors (as it happens, the prime numbers are the only possible factors).  The function receives two parameters: a number to check and a list of factors.  There is one other piece to the function, however.  The largest factor that can be in a number is its square root.  Any number larger than the square root can, therefore, be ignored.  The primality checking function, therefore, takes advantage of what is called \"early exit\" when the factor to be checked is too large.  This is an optimization which speeds up the code.  It would work just as well without it.\n",
    "\n",
    "The flow of the ```checkIsPrime``` function is fairly simple.  On entry to the function, we calculate the square root of the number we are checking.  Any factors must be less than or equal to this value.  Next we enter a loop that iterates over the prime numbers that we already know.  There if an ```if``` statement which checks if the current factor we are checking is larger than the largest factor.  In that case, we know the number is prime because the only way to get there is to have checked all of the smaller (possible) factors.  The second ```if``` statement in the checking loop tests if the value to test is evenly divisible by the current factor (```prime```).  If any number evenly divides the number that we are checking then it is a compound number and, thus, is *not* prime.  We, therefore, return ```False```.  In general, we would expect the loop the function to be exited by one of the ```return``` statements within the loop.  If, however, the function continues all the way to the end, we assume that the number is prime and return ```True```.\n",
    "\n",
    "#### About the prime number main loop\n",
    "This code uses nested loops -- both ```for``` and ```while``` loops.  Nested loops are sometimes considered a code \"smell\".  Code smell refers to the idea that some things in code just don't feel right.  Nested loops can be complicated, they can be difficult.  Sometimes they are necessary, but it's still reasonable to take pause if nested loops show up in a problem that does not seem to require them.  Here, however, we have two things going on.  We are looping over then number of prime numbers we want to store *and* looping over all the possible values we are testing.  That's the source of our nested loops and we can't really reduce that much.  It seems reasonable to use nested loops in this situation.\n",
    "\n",
    "At the top of the code we define ```N``` as the number of primes we want to find.  This code is actually pretty fast.  Looking for the first 10000 primes is entirely possible -- it just takes a lot of space to print.  We can play with how many primes we wish to view by simply changing the configuration here.  Again, it is nice to have such configurations decoupled from the functional code.\n",
    "\n",
    "Next we find the definition of the primality checking function.  Since we have discussed how this function works already we will not do so again, however, in most languages (including Python) it is necessary that a function be defined before it is used.  Therefore, we find that definition preceeding the bulk of the code.\n",
    "\n",
    "The first thing the code does after having done what can be considered as setup is to create a variable ```primes``` which holds a list.  To begin with, the list holds one number, the number two.  There are many different ways that this code could have been written.  The way it was done here, however, requires that the list of primes be \"initialized\" with something.  In this case, the first prime number.  One result of this is that the code will not work if asked to return zero prime numbers.  Why would we do that?  Who knows.  People do strange things with software.  As with our guessing game example, this is a place where we could validate program data to avoid the program doing the wrong things.  The next action is to initialize the variable ```value``` to hold the number three, which is the first number that actual primality checking will happen on.\n",
    "\n",
    "Having set up the main state of the program, there is a ```for``` loop that simply loops ```N-1``` times.  The ```-1``` exists because the list of primes was initialized already with the first prime.  The ```for``` loop is executed once for every prime which needs to be *added* to the list.  The first step is to initialize the ```found``` variable to ```False``` to signify that new prime number has been found.  This variable will be set to true as soon as a new prime number is found within the _while_ loop.  The next step is, of course, the ```while``` loop that searches for a valid prime number.  The ```found``` variable is assigned to the return value of the ```checkPrime``` function with the current value.  Next an _if_ statement checks the value of the ```found``` variable.  If the current value is prime, it will be added to the ```primes``` list using the ```append``` method.  Regardless, the ```value``` variable is incremented (assigned to being one more than it initially was).  This defines the end of the ```while``` loop, which will be repeated if the ```found``` variable remains ```False```.  If, on the other hand, a prime number was found on the last iteration of the while loop the code will fall back to the outer for loop.  The for loop, of course, will continue until it has iterated all ```N-1``` times.\n",
    "\n",
    "At the very end, the code simply prints out the generated list of primes.\n",
    "\n",
    "### Politicians are crooks!\n",
    "There's an old logic puzzle.  Assume that 50% of politicians are murders and 50% of politicians are robbers.  Does that mean that all politicians are crooks?  The answer (spoiler alert!) is no.  There are lots of ways that we can show that using math and logic.  A really fun way to demonstrate it, however, is to _simulate_ it.  Simulation is where a program acts \"like\" something in reality.  Simulation is one of the powerful problem-solving techniques in computer science.  It is also a fun technique because we can test situations that are difficult (or impossible) to test in reality.  This is a more advanced program, partly because it uses a number of Python features that we really haven't explored yet.  As with the rest, work your way through the code slowly doing your best to identify the parts you know and get as much as you can from context.  This also uses more in the way of math than anything else we have worked with.  Don't let this frighten you.  The math isn't difficult."
   ]
  },
  {
   "cell_type": "code",
   "execution_count": 30,
   "metadata": {
    "collapsed": false
   },
   "outputs": [
    {
     "name": "stdout",
     "output_type": "stream",
     "text": [
      "75.09% of politicians are crooks!\n"
     ]
    }
   ],
   "source": [
    "import random\n",
    "\n",
    "N = 10000    # We'll just take a random sampling of politicians in the nation....\n",
    "politicians = set(range(N))\n",
    "\n",
    "def choosePoliticians(all_politicians, percentage):\n",
    "    number = int(len(all_politicians) * percentage / 100.0)\n",
    "    all_politicians = list(all_politicians)\n",
    "    random.shuffle(all_politicians)\n",
    "    return set(all_politicians[:number])\n",
    "\n",
    "def simulateNefariousPublicServents(politicians, percent_of_burgulars=50, percent_of_murderers=50):\n",
    "    burgulars = choosePoliticians(politicians, percent_of_burgulars)\n",
    "    murderers = choosePoliticians(politicians, percent_of_murderers)\n",
    "    criminals = burgulars.union(murderers)\n",
    "    return (100.0 * len(criminals)) / len(politicians) \n",
    "\n",
    "percent_crooks = simulateNefariousPublicServents(politicians)\n",
    "\n",
    "print('{}% of politicians are crooks!'.format(percent_crooks))"
   ]
  },
  {
   "cell_type": "markdown",
   "metadata": {},
   "source": [
    "#### About the problem\n",
    "One especially interesting thing about this program is that it will not always give the same results.  We can understand that, of course, because the code is using the ```random``` library which -- unsurprisingly -- deals with randomness.  It begs the question though, if it doesn't always give the same answer, does that mean that it doesn't give the _correct_ answer?  In fact, we would not _expect_ for the answer to be the same.  Since this is a simulation, we are expecting for the code to represent different groups of random (potentially) nefarious politicians.  The \"correct\" answer (in the terrifying limit of an infinite number of politicians) is 75.0%. Running the code several times, you should find that the numbers all fall around that.\n",
    "\n",
    "We can understand why the answer is 75% rather than 100% in this way.  If we are given one hundred empty cards and place a red dot on the top fifty, we have marked the 50% that are murders.  We then shuffle the cards well.  If the process is then repeated (placing a blue dot on the top fifty cards).  There will be four kinds of card in the deck.  Some will have a red dot, some a blue dot, some both, and some will not have any dots.  The logical fallacy which often leads us to assume that there are no virtuous politicians is that we forget the subset who are _both_ murders and robbers.  This process of \"marking\" cards is handled in the code by the ```choosePoliticians``` function which selects a small group out of a larger group.  When this smaller group is choosen, that is similar to marking cards with colored dots.  When these two groups are combined it gives a single group that consists of all politicians who are murders, robbers, or both.\n",
    "\n",
    "#### About the code\n",
    "At the top of the code, the ```random``` library is imported.  Here we do not import a specific function from the library but, rather, import the whole _module_.  By doing so, it becomes necessary to use the library name in the rest of code any time we wish to use a function in the module.  In short programs like we have seen here it is rarely helpful to do this.  However, as soon as programs begin to get larger and more complex, importing a module and accessing the functions through the module name becomes more useful as it reduces the possibility of so called namespace polution (which is a reasonable thing to look up, but won't be discussed further here).  Next, we define a variable ```N``` that simply defines the number of politicians which will be used in the simulation.  The larger N is, the more consistent the results of the simulation will be.  It is worth reducing ```N``` to only 15 or 20, just to see what happens.  \n",
    "\n",
    "Following that, we create a set of politicians (called ```politicians```).  A set is another Python datatype that we didn't introduce above.  A \"set\" is a mathematic concept.  It is a container that holds only one copy of anything.  If we put the number 1 into the set and try to put the number 1 in again, there will only be a single copy of 1 in the set.  Combining two sets (with the union operation) always leads to another set (that is, if two sets both contain the number 1 and they are combined, the resultant set will only contain one copy of the number 1).  The code  above creates the set by creating a _list-like_ object with the numbers from zero to ```N-1``` and passing that list into the ```set``` function.\n",
    "\n",
    "We next find the first of two function definitions.  In this case, the function, ```choosePoliticians``` will select a \"subset\" of a set passed into it.  The function takes two arguments.  The first argument, ```politicians``` is expected to be a set of politicians.  At this point, it is worth noting that we have two variables named ```politicians``` in the code and not one.  The first we created explicitly in the third line of code.  This particular variable does not change through the course of the program.  The second ```politicians``` variable is a parameter of the function.  Inside the function, the value of the first variable is \"shadowed\", that is, it is hidden.  There are specific rules in Python that determine when variables are seen or hidden.  Sometimes these rules can be complicated.  In this case, it is fairly easy to just remember that variables in a parameter list always hide variables outside a function."
   ]
  },
  {
   "cell_type": "code",
   "execution_count": null,
   "metadata": {
    "collapsed": true
   },
   "outputs": [],
   "source": []
  }
 ],
 "metadata": {
  "kernelspec": {
   "display_name": "Python 2",
   "language": "python",
   "name": "python2"
  },
  "language_info": {
   "codemirror_mode": {
    "name": "ipython",
    "version": 2
   },
   "file_extension": ".py",
   "mimetype": "text/x-python",
   "name": "python",
   "nbconvert_exporter": "python",
   "pygments_lexer": "ipython2",
   "version": "2.7.12"
  }
 },
 "nbformat": 4,
 "nbformat_minor": 1
}
